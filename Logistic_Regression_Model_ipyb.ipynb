{
  "nbformat": 4,
  "nbformat_minor": 0,
  "metadata": {
    "colab": {
      "provenance": [],
      "authorship_tag": "ABX9TyPgIiGEY3uhCMub3PrbycFm",
      "include_colab_link": true
    },
    "kernelspec": {
      "name": "python3",
      "display_name": "Python 3"
    },
    "language_info": {
      "name": "python"
    }
  },
  "cells": [
    {
      "cell_type": "markdown",
      "metadata": {
        "id": "view-in-github",
        "colab_type": "text"
      },
      "source": [
        "<a href=\"https://colab.research.google.com/github/manideeplinga/AIML--1/blob/main/Logistic_Regression_Model_ipyb.ipynb\" target=\"_parent\"><img src=\"https://colab.research.google.com/assets/colab-badge.svg\" alt=\"Open In Colab\"/></a>"
      ]
    },
    {
      "cell_type": "code",
      "execution_count": 1,
      "metadata": {
        "colab": {
          "base_uri": "https://localhost:8080/"
        },
        "id": "CwVMqnwaaYRU",
        "outputId": "96d78df1-348d-45c8-b382-d258d15b654e"
      },
      "outputs": [
        {
          "output_type": "stream",
          "name": "stdout",
          "text": [
            "Epoch 0: Loss = 0.6931\n",
            "Epoch 100: Loss = 0.1117\n",
            "Epoch 200: Loss = 0.0593\n",
            "Epoch 300: Loss = 0.0400\n",
            "Epoch 400: Loss = 0.0301\n",
            "Epoch 500: Loss = 0.0241\n",
            "Epoch 600: Loss = 0.0201\n",
            "Epoch 700: Loss = 0.0172\n",
            "Epoch 800: Loss = 0.0150\n",
            "Epoch 900: Loss = 0.0133\n",
            "Final weights: [2.95618379 1.68596365 2.90674067]\n"
          ]
        }
      ],
      "source": [
        "\n",
        "import numpy as np\n",
        "X = np.array([\n",
        "    [0.1, 0.2],\n",
        "    [0.2, 0.3],\n",
        "    [0.3, 0.4],\n",
        "    [-1, -2],\n",
        "    [-3, -4]\n",
        "])\n",
        "y = np.array([1, 1, 1, 0, 0])\n",
        "def sigmoid(z):\n",
        "    return 1 / (1 + np.exp(-z))\n",
        "def compute_loss(y, y_pred):\n",
        "    return -np.mean(y * np.log(y_pred + 1e-15) + (1 - y) * np.log(1 - y_pred + 1e-15))\n",
        "learning_rate = 0.1\n",
        "epochs = 1000\n",
        "m, n = X.shape\n",
        "X = np.hstack((np.ones((m, 1)), X))  # Add bias term\n",
        "weights = np.zeros(n + 1)\n",
        "for epoch in range(epochs):\n",
        "    z = np.dot(X, weights)\n",
        "    y_pred = sigmoid(z)\n",
        "    gradient = np.dot(X.T, (y_pred - y)) / m\n",
        "    weights -= learning_rate * gradient\n",
        "    if epoch % 100 == 0:\n",
        "        loss = compute_loss(y, y_pred)\n",
        "        print(f\"Epoch {epoch}: Loss = {loss:.4f}\")\n",
        "print(\"Final weights:\", weights)"
      ]
    }
  ]
}