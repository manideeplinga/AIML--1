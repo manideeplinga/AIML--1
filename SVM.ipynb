{
  "nbformat": 4,
  "nbformat_minor": 0,
  "metadata": {
    "colab": {
      "provenance": [],
      "authorship_tag": "ABX9TyMQdQvq7+nNfGDi34S9vK0Q",
      "include_colab_link": true
    },
    "kernelspec": {
      "name": "python3",
      "display_name": "Python 3"
    },
    "language_info": {
      "name": "python"
    }
  },
  "cells": [
    {
      "cell_type": "markdown",
      "metadata": {
        "id": "view-in-github",
        "colab_type": "text"
      },
      "source": [
        "<a href=\"https://colab.research.google.com/github/manideeplinga/AIML--1/blob/main/SVM.ipynb\" target=\"_parent\"><img src=\"https://colab.research.google.com/assets/colab-badge.svg\" alt=\"Open In Colab\"/></a>"
      ]
    },
    {
      "cell_type": "code",
      "execution_count": 2,
      "metadata": {
        "colab": {
          "base_uri": "https://localhost:8080/"
        },
        "id": "MRO6hFE-2wjB",
        "outputId": "e145118b-c06b-49bc-d889-645698e0760a"
      },
      "outputs": [
        {
          "output_type": "stream",
          "name": "stdout",
          "text": [
            "SVM Model Accuracy: 0.67\n",
            "Confusion Matrix:\n",
            " [[0 1]\n",
            " [0 2]]\n",
            "Prediction for input [0, 2, 1, 0]: Play\n"
          ]
        },
        {
          "output_type": "stream",
          "name": "stderr",
          "text": [
            "/usr/local/lib/python3.11/dist-packages/sklearn/utils/validation.py:2739: UserWarning: X does not have valid feature names, but SVC was fitted with feature names\n",
            "  warnings.warn(\n"
          ]
        }
      ],
      "source": [
        "import pandas as pd\n",
        "from sklearn.svm import SVC\n",
        "from sklearn.model_selection import train_test_split\n",
        "from sklearn.metrics import accuracy_score, confusion_matrix\n",
        "data = {\n",
        "    'Outlook':  [2, 2, 0, 1, 1, 1, 0, 2, 2, 1, 2, 0, 0, 1],\n",
        "    'Temp':     [1, 1, 1, 2, 0, 0, 0, 2, 0, 2, 2, 2, 1, 2],\n",
        "    'Humidity': [0, 0, 0, 0, 1, 1, 1, 0, 1, 1, 1, 0, 1, 0],\n",
        "    'Wind':     [1, 0, 1, 1, 1, 0, 0, 1, 1, 1, 0, 0, 1, 0],\n",
        "    'Play':     [0, 0, 1, 1, 1, 0, 1, 0, 1, 1, 1, 1, 1, 0]\n",
        "}\n",
        "df = pd.DataFrame(data)\n",
        "X = df[['Outlook', 'Temp', 'Humidity', 'Wind']]\n",
        "y = df['Play']\n",
        "X_train, X_test, y_train, y_test = train_test_split(X, y, test_size=0.2, random_state=42)\n",
        "model = SVC(kernel='linear')\n",
        "model.fit(X_train, y_train)\n",
        "y_pred = model.predict(X_test)\n",
        "accuracy = accuracy_score(y_test, y_pred)\n",
        "conf_matrix = confusion_matrix(y_test, y_pred)\n",
        "print(\"SVM Model Accuracy:\", round(accuracy, 2))\n",
        "print(\"Confusion Matrix:\\n\", conf_matrix)\n",
        "new_data = [[0, 2, 1, 0]]\n",
        "prediction = model.predict(new_data)\n",
        "print(\"Prediction for input {}: {}\".format(new_data[0], \"Play\" if prediction[0] == 1 else \"Don't Play\"))"
      ]
    }
  ]
}