{
  "nbformat": 4,
  "nbformat_minor": 0,
  "metadata": {
    "colab": {
      "provenance": [],
      "authorship_tag": "ABX9TyOpNIJo3OTMin6WQfsCOTAy",
      "include_colab_link": true
    },
    "kernelspec": {
      "name": "python3",
      "display_name": "Python 3"
    },
    "language_info": {
      "name": "python"
    }
  },
  "cells": [
    {
      "cell_type": "markdown",
      "metadata": {
        "id": "view-in-github",
        "colab_type": "text"
      },
      "source": [
        "<a href=\"https://colab.research.google.com/github/manideeplinga/AIML--1/blob/main/Lab_Exam.ipynb\" target=\"_parent\"><img src=\"https://colab.research.google.com/assets/colab-badge.svg\" alt=\"Open In Colab\"/></a>"
      ]
    },
    {
      "cell_type": "code",
      "execution_count": 2,
      "metadata": {
        "colab": {
          "base_uri": "https://localhost:8080/"
        },
        "id": "Idlby2Q-C7D5",
        "outputId": "787f9a96-755c-465c-e9b6-eaa7b6251078"
      },
      "outputs": [
        {
          "output_type": "stream",
          "name": "stdout",
          "text": [
            "m1 = 1.7134650927124209\n",
            "m2 = 2.640088262501156\n",
            "c = 4.322168958079614\n"
          ]
        }
      ],
      "source": [
        "X1 = [0.1, 0.2, 0.3, 0.4, 0.5, 0.6, 0.7, 0.9, 0.8]\n",
        "X2 = [0.8, 0.9, 0.7, 0.6, 0.5, 0.4, 0.3, 0.2, 0.1]\n",
        "Y  = [6.6, 7.1, 6.7, 6.6, 6.5, 6.4, 6.3, 6.4, 5.9]\n",
        "m1 = 0\n",
        "m2 = 0\n",
        "c = 0\n",
        "alpha = 0.01\n",
        "epochs = 100\n",
        "for epoch in range(epochs):\n",
        "    for i in range(len(X1)):\n",
        "        x1 = X1[i]\n",
        "        x2 = X2[i]\n",
        "        y = Y[i]\n",
        "        y_pred = m1 * x1 + m2 * x2 + c\n",
        "        error = y_pred - y\n",
        "        dm1 = 2 * error * x1\n",
        "        dm2 = 2 * error * x2\n",
        "        dc = 2 * error\n",
        "        m1 = m1 - alpha * dm1\n",
        "        m2 = m2 - alpha * dm2\n",
        "        c = c - alpha * dc\n",
        "print(\"m1 =\", m1)\n",
        "print(\"m2 =\", m2)\n",
        "print(\"c =\", c)"
      ]
    }
  ]
}