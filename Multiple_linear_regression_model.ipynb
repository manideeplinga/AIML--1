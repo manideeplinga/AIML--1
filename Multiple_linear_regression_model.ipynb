{
  "nbformat": 4,
  "nbformat_minor": 0,
  "metadata": {
    "colab": {
      "provenance": [],
      "authorship_tag": "ABX9TyPJLp5eBlZ2WQftj9Kimt2Z",
      "include_colab_link": true
    },
    "kernelspec": {
      "name": "python3",
      "display_name": "Python 3"
    },
    "language_info": {
      "name": "python"
    }
  },
  "cells": [
    {
      "cell_type": "markdown",
      "metadata": {
        "id": "view-in-github",
        "colab_type": "text"
      },
      "source": [
        "<a href=\"https://colab.research.google.com/github/manideeplinga/AIML--1/blob/main/Multiple_linear_regression_model.ipynb\" target=\"_parent\"><img src=\"https://colab.research.google.com/assets/colab-badge.svg\" alt=\"Open In Colab\"/></a>"
      ]
    },
    {
      "cell_type": "code",
      "execution_count": 2,
      "metadata": {
        "colab": {
          "base_uri": "https://localhost:8080/"
        },
        "id": "i5fy1rpkO4jO",
        "outputId": "b58054db-9312-4ace-a9ac-72c96a284568"
      },
      "outputs": [
        {
          "output_type": "stream",
          "name": "stdout",
          "text": [
            "Final m1 (X1 weight): 2.398690680348358\n",
            "Final m2 (X2 weight): 2.522197897905611\n",
            "Final c (intercept): 4.004569339265219\n"
          ]
        }
      ],
      "source": [
        "\n",
        "X1 = [0.2, 0.4, 0.6, 0.8, 0.1]\n",
        "X2 = [0.1, 0.3, 0.5, 0.7, 0.2]\n",
        "Y =  [4.7, 5.7, 6.7, 7.7, 4.8]\n",
        "m1 = 0\n",
        "m2 = 0\n",
        "c = 0\n",
        "alpha = 0.1\n",
        "iterations = 1000\n",
        "n = len(Y)\n",
        "for _ in range(iterations):\n",
        "    y_pred = [m1*x1 + m2*x2 + c for x1, x2 in zip(X1, X2)]\n",
        "    error = [y - y_hat for y, y_hat in zip(Y, y_pred)]\n",
        "    dm1 = -(2/n) * sum(e * x1 for e, x1 in zip(error, X1))\n",
        "    dm2 = -(2/n) * sum(e * x2 for e, x2 in zip(error, X2))\n",
        "    dc = -(2/n) * sum(error)\n",
        "    m1 -= alpha * dm1\n",
        "    m2 -= alpha * dm2\n",
        "    c -= alpha * dc\n",
        "print(f\"Final m1 (X1 weight): {m1}\")\n",
        "print(f\"Final m2 (X2 weight): {m2}\")\n",
        "print(f\"Final c (intercept): {c}\")"
      ]
    }
  ]
}