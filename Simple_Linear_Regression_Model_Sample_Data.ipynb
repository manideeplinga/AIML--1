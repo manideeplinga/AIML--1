{
  "nbformat": 4,
  "nbformat_minor": 0,
  "metadata": {
    "colab": {
      "provenance": [],
      "authorship_tag": "ABX9TyNKQC4DznVvVlDCgioEOgWw",
      "include_colab_link": true
    },
    "kernelspec": {
      "name": "python3",
      "display_name": "Python 3"
    },
    "language_info": {
      "name": "python"
    }
  },
  "cells": [
    {
      "cell_type": "markdown",
      "metadata": {
        "id": "view-in-github",
        "colab_type": "text"
      },
      "source": [
        "<a href=\"https://colab.research.google.com/github/manideeplinga/AIML--1/blob/main/Simple_Linear_Regression_Model_Sample_Data.ipynb\" target=\"_parent\"><img src=\"https://colab.research.google.com/assets/colab-badge.svg\" alt=\"Open In Colab\"/></a>"
      ]
    },
    {
      "cell_type": "code",
      "execution_count": 1,
      "metadata": {
        "colab": {
          "base_uri": "https://localhost:8080/"
        },
        "id": "TpaNok7sNklr",
        "outputId": "e86a0801-4ed3-42a3-bafe-65f135003621"
      },
      "outputs": [
        {
          "output_type": "stream",
          "name": "stdout",
          "text": [
            "Final slope (m): 1.8666268125620284\n",
            "Final intercept (c): 2.0337399599864745\n"
          ]
        }
      ],
      "source": [
        "\n",
        "X = [0.1, 0.2, 0.3, 0.4]\n",
        "Y = [2.2, 2.4, 2.6, 2.8]\n",
        "m = 0\n",
        "c = 0\n",
        "alpha = 0.1\n",
        "iterations = 1000\n",
        "n = len(X)\n",
        "for i in range(iterations):\n",
        "    y_pred = [m * x + c for x in X]\n",
        "    error = [y - y_hat for y, y_hat in zip(Y, y_pred)]\n",
        "    dm = -(2/n) * sum(x * e for x, e in zip(X, error))\n",
        "    dc = -(2/n) * sum(error)\n",
        "    m -= alpha * dm\n",
        "    c -= alpha * dc\n",
        "print(f\"Final slope (m): {m}\")\n",
        "print(f\"Final intercept (c): {c}\")"
      ]
    }
  ]
}